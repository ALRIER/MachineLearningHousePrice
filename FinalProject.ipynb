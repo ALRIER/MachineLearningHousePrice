{
  "nbformat": 4,
  "nbformat_minor": 0,
  "metadata": {
    "colab": {
      "provenance": [],
      "authorship_tag": "ABX9TyM/gdaWA2EqoOhOTHqTLjHh",
      "include_colab_link": true
    },
    "kernelspec": {
      "name": "python3",
      "display_name": "Python 3"
    },
    "language_info": {
      "name": "python"
    }
  },
  "cells": [
    {
      "cell_type": "markdown",
      "metadata": {
        "id": "view-in-github",
        "colab_type": "text"
      },
      "source": [
        "<a href=\"https://colab.research.google.com/github/ALRIER/MachineLearningHousePrice/blob/main/FinalProject.ipynb\" target=\"_parent\"><img src=\"https://colab.research.google.com/assets/colab-badge.svg\" alt=\"Open In Colab\"/></a>"
      ]
    },
    {
      "cell_type": "code",
      "source": [
        "import numpy as np\n",
        "import pandas as pd\n",
        "import seaborn as sns\n",
        "import scipy.stats as stats\n",
        "import statsmodels.api as sm\n",
        "import matplotlib.pyplot as plt\n",
        "import warnings\n",
        "import pandas_profiling\n",
        "from scipy.stats import chi2_contingency\n",
        "from matplotlib import style\n",
        "from scipy import stats\n",
        "from scipy.stats import shapiro\n",
        "from pandas_profiling import ProfileReport\n",
        "from google.colab import drive\n",
        "plt.style.use('ggplot')\n",
        "%matplotlib inline\n",
        "warnings.filterwarnings('ignore')   \n",
        "drive.mount('/content/drive') "
      ],
      "metadata": {
        "colab": {
          "base_uri": "https://localhost:8080/"
        },
        "id": "HVwil80Z0iTH",
        "outputId": "ceaff14e-1a75-4597-c63d-d8e80cd89439"
      },
      "execution_count": 2,
      "outputs": [
        {
          "output_type": "stream",
          "name": "stdout",
          "text": [
            "Mounted at /content/drive\n"
          ]
        }
      ]
    },
    {
      "cell_type": "code",
      "execution_count": 11,
      "metadata": {
        "colab": {
          "base_uri": "https://localhost:8080/"
        },
        "id": "ZewYod5K0O32",
        "outputId": "f7b5ab5c-5788-481e-9032-55c2bd28cb85"
      },
      "outputs": [
        {
          "output_type": "execute_result",
          "data": {
            "text/plain": [
              "Id               1459\n",
              "MSSubClass       1459\n",
              "MSZoning         1455\n",
              "LotFrontage      1232\n",
              "LotArea          1459\n",
              "                 ... \n",
              "MiscVal          1459\n",
              "MoSold           1459\n",
              "YrSold           1459\n",
              "SaleType         1458\n",
              "SaleCondition    1459\n",
              "Length: 80, dtype: int64"
            ]
          },
          "metadata": {},
          "execution_count": 11
        }
      ],
      "source": [
        "dftest=pd.read_csv('/content/drive/MyDrive/Waterloo Datascience. /Statistics 4 Datascience/GroupAssignment2/test.csv')\n",
        "dftest.count()"
      ]
    },
    {
      "cell_type": "code",
      "source": [
        "dftrain=pd.read_csv('/content/drive/MyDrive/Waterloo Datascience. /Statistics 4 Datascience/GroupAssignment2/train.csv')\n",
        "dftrain.count()"
      ],
      "metadata": {
        "colab": {
          "base_uri": "https://localhost:8080/"
        },
        "id": "Dszuv54Z3KIw",
        "outputId": "870bba5d-bc28-44b3-ab1d-775ee1a8e2aa"
      },
      "execution_count": 8,
      "outputs": [
        {
          "output_type": "execute_result",
          "data": {
            "text/plain": [
              "Id               1460\n",
              "MSSubClass       1460\n",
              "MSZoning         1460\n",
              "LotFrontage      1201\n",
              "LotArea          1460\n",
              "                 ... \n",
              "MoSold           1460\n",
              "YrSold           1460\n",
              "SaleType         1460\n",
              "SaleCondition    1460\n",
              "SalePrice        1460\n",
              "Length: 81, dtype: int64"
            ]
          },
          "metadata": {},
          "execution_count": 8
        }
      ]
    },
    {
      "cell_type": "code",
      "source": [
        "dfSamp=pd.read_csv('/content/drive/MyDrive/Waterloo Datascience. /Statistics 4 Datascience/GroupAssignment2/sample_submission.csv')\n",
        "dfSamp.count()"
      ],
      "metadata": {
        "colab": {
          "base_uri": "https://localhost:8080/"
        },
        "id": "90Tuc_n-3tMJ",
        "outputId": "9c5d5059-43f0-42fa-d8ae-9459ee899e1d"
      },
      "execution_count": 6,
      "outputs": [
        {
          "output_type": "execute_result",
          "data": {
            "text/plain": [
              "Id           1459\n",
              "SalePrice    1459\n",
              "dtype: int64"
            ]
          },
          "metadata": {},
          "execution_count": 6
        }
      ]
    }
  ]
}